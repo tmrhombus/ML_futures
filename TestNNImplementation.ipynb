{
 "cells": [
  {
   "cell_type": "code",
   "execution_count": 1,
   "id": "847e46a9",
   "metadata": {},
   "outputs": [],
   "source": [
    "import numpy as np"
   ]
  },
  {
   "cell_type": "code",
   "execution_count": 2,
   "id": "e7bba295",
   "metadata": {},
   "outputs": [],
   "source": [
    "def relu(z):\n",
    "    return max(0,z)"
   ]
  },
  {
   "cell_type": "code",
   "execution_count": 13,
   "id": "b5ab53e2",
   "metadata": {},
   "outputs": [],
   "source": [
    "def my_dense(a_in, W, b):\n",
    "    \"\"\"\n",
    "    Computes dense layer\n",
    "    Args:\n",
    "      a_in (ndarray (n, )) : Data, 1 example \n",
    "      W    (ndarray (n,j)) : Weight matrix, n features per unit, j units\n",
    "      b    (ndarray (j, )) : bias vector, j units  \n",
    "    Returns\n",
    "      a_out (ndarray (j,))  : j units|\n",
    "    \"\"\"\n",
    "    units = W.shape[1]\n",
    "    a_out = np.zeros(units)\n",
    "    for j in range(units):               \n",
    "        w = W[:,j]                                    \n",
    "        z = np.dot(w, a_in) + b[j]         \n",
    "        #a_out[j] = g(z)  \n",
    "        a_out[j] = relu(z)\n",
    "    return(a_out)\n",
    "\n",
    "def md2(a_in, W, b):\n",
    "    \"\"\"\n",
    "    Computes dense layer\n",
    "    Args:\n",
    "      a_in (ndarray (n, )) : Data, 1 example \n",
    "      W    (ndarray (n,j)) : Weight matrix, n features per unit, j units\n",
    "      b    (ndarray (j, )) : bias vector, j units  \n",
    "    Returns\n",
    "      a_out (ndarray (j,))  : j units|\n",
    "    \"\"\"\n",
    "    units = W.shape[1]\n",
    "    a_out = np.zeros(units)\n",
    "    for j in range(units):               \n",
    "        w = W[:,j]                                    \n",
    "        z = np.dot(w, a_in) #+ b[j]         \n",
    "        #a_out[j] = g(z)  \n",
    "        a_out[j] = z#relu(z)\n",
    "    return(a_out)"
   ]
  },
  {
   "cell_type": "code",
   "execution_count": 7,
   "id": "9883065d",
   "metadata": {},
   "outputs": [],
   "source": [
    "W1 = np.array([[-0.35931554, -0.60867774,  0.57276803, -0.331684  ],\n",
    "       [ 0.14534985,  0.15308255, -0.8869324 , -0.20662065],\n",
    "       [-0.01491139,  0.28710446, -0.07272886, -0.02602755],\n",
    "       [ 0.17098327,  0.31716844,  0.36154765,  0.11871395],\n",
    "       [-0.44065243, -0.05490016,  0.41944328, -0.09605618],\n",
    "       [-0.46116596,  0.1639069 , -0.05707905, -0.00872551],\n",
    "       [-0.62098724, -0.15763162,  0.39545676,  0.05513122],\n",
    "       [ 0.5229482 ,  0.13234341, -0.856736  ,  0.3262991 ],\n",
    "       [ 0.45097303, -0.63789904,  0.34305823,  0.01996426],\n",
    "       [-0.3572626 ,  0.32333598,  0.4385741 , -0.63191104],\n",
    "       [-0.2553031 , -0.01841969,  0.57969403, -0.12091561],\n",
    "       [-0.18090661,  0.978764  ,  0.11425298, -1.9198667 ]])\n",
    "b1 = np.array([ 0.10954549, -1.100234  , -0.592701  ,  0.939416  ])\n",
    "\n",
    "W2 = np.array([[ 0.3521547 ,  0.66270506],\n",
    "       [ 0.40481055,  0.5753165 ],\n",
    "       [-1.302573  ,  0.05194663],\n",
    "       [ 0.55649036, -1.3704207 ]])\n",
    "b2 = np.array([ 0.22813858, -0.39588457])\n",
    "              \n",
    "W3 = np.array([[-0.68431664],\n",
    "       [ 1.5316671 ]])\n",
    "b3 = np.array([0.69534457])"
   ]
  },
  {
   "cell_type": "code",
   "execution_count": 10,
   "id": "352b763f",
   "metadata": {},
   "outputs": [
    {
     "name": "stdout",
     "output_type": "stream",
     "text": [
      "[0.         0.12718582 0.         0.        ]\n"
     ]
    }
   ],
   "source": [
    "ain = np.array([ 0.,2.25, -0.5,   0.75,  0.75,  2.25,  0.75,  1.75,  1.5,   1.75, -0.25,  0.75])\n",
    "a1 = my_dense(ain,W1,b1)\n",
    "print(a1)"
   ]
  },
  {
   "cell_type": "code",
   "execution_count": 16,
   "id": "3b191ca5",
   "metadata": {},
   "outputs": [
    {
     "name": "stdout",
     "output_type": "stream",
     "text": [
      "[-0.47656769  1.22741982 -1.48175532 -2.32771897]\n"
     ]
    }
   ],
   "source": [
    "print(md2(ain,W1,b1))"
   ]
  },
  {
   "cell_type": "code",
   "execution_count": null,
   "id": "19dbef2f",
   "metadata": {},
   "outputs": [],
   "source": []
  }
 ],
 "metadata": {
  "kernelspec": {
   "display_name": "Python 3",
   "language": "python",
   "name": "python3"
  },
  "language_info": {
   "codemirror_mode": {
    "name": "ipython",
    "version": 3
   },
   "file_extension": ".py",
   "mimetype": "text/x-python",
   "name": "python",
   "nbconvert_exporter": "python",
   "pygments_lexer": "ipython3",
   "version": "3.6.13"
  }
 },
 "nbformat": 4,
 "nbformat_minor": 5
}
