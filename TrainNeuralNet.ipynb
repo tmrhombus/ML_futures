{
 "cells": [
  {
   "cell_type": "markdown",
   "id": "61c9053c",
   "metadata": {},
   "source": [
    "## Imports"
   ]
  },
  {
   "cell_type": "code",
   "execution_count": 12,
   "id": "174a1637",
   "metadata": {},
   "outputs": [],
   "source": [
    "import numpy as np"
   ]
  },
  {
   "cell_type": "markdown",
   "id": "c426e7a6",
   "metadata": {},
   "source": [
    "## Load data"
   ]
  },
  {
   "cell_type": "code",
   "execution_count": 13,
   "id": "a2e4d340",
   "metadata": {},
   "outputs": [],
   "source": [
    "#rawdata = np.loadtxt(\"data/data_OHLC.txt\", delimiter=\",\")\n",
    "data_raw = np.genfromtxt(\"data/data_OHLC.txt\", delimiter=\",\")\n",
    "print(data_raw[0])"
   ]
  },
  {
   "cell_type": "code",
   "execution_count": 15,
   "id": "39af1d21",
   "metadata": {},
   "outputs": [
    {
     "name": "stdout",
     "output_type": "stream",
     "text": [
      "[4196.75 4200.25 4196.25 4197.5 ]\n"
     ]
    }
   ],
   "source": [
    "# drop date first column\n",
    "data_noT = data_raw[:,1:]\n",
    "print(data_noT[0])"
   ]
  },
  {
   "cell_type": "code",
   "execution_count": null,
   "id": "877dfab9",
   "metadata": {},
   "outputs": [],
   "source": []
  }
 ],
 "metadata": {
  "kernelspec": {
   "display_name": "Python 3",
   "language": "python",
   "name": "python3"
  },
  "language_info": {
   "codemirror_mode": {
    "name": "ipython",
    "version": 3
   },
   "file_extension": ".py",
   "mimetype": "text/x-python",
   "name": "python",
   "nbconvert_exporter": "python",
   "pygments_lexer": "ipython3",
   "version": "3.6.13"
  }
 },
 "nbformat": 4,
 "nbformat_minor": 5
}
