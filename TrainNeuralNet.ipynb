{
 "cells": [
  {
   "cell_type": "markdown",
   "id": "9282add8",
   "metadata": {},
   "source": [
    "## Imports"
   ]
  },
  {
   "cell_type": "code",
   "execution_count": 1,
   "id": "727b4606",
   "metadata": {},
   "outputs": [],
   "source": [
    "import numpy as np"
   ]
  },
  {
   "cell_type": "markdown",
   "id": "be7c3eb6",
   "metadata": {},
   "source": [
    "## Load data"
   ]
  },
  {
   "cell_type": "code",
   "execution_count": 2,
   "id": "5cd5d838",
   "metadata": {},
   "outputs": [],
   "source": [
    "dataname = \"data/data_TOHLC_TH_2022.08.29.txt\"\n",
    "#dataname = \"data/data_OHLC.txt\"\n",
    "data_raw = np.genfromtxt(dataname, delimiter=\",\")\n",
    "#print(data_raw[0])"
   ]
  },
  {
   "cell_type": "code",
   "execution_count": 3,
   "id": "0ef82a56",
   "metadata": {},
   "outputs": [],
   "source": [
    "# drop date first column\n",
    "data_noT = data_raw[:,1:]\n",
    "#print(data_noT[0])"
   ]
  },
  {
   "cell_type": "code",
   "execution_count": 4,
   "id": "3392d4e7",
   "metadata": {},
   "outputs": [],
   "source": [
    "# combine data to make rows\n",
    "data_npoints = np.array([])\n",
    "npoints = 5\n",
    "for i in range(len(data_noT)-npoints):\n",
    "    # i = startpoint\n",
    "    newrow = data_noT[i]\n",
    "    for j in range(1,npoints):\n",
    "        k = i+j\n",
    "        newrow = np.concatenate([newrow,data_noT[k]])\n",
    "    #print(newrow)\n",
    "    if i==0 :\n",
    "        data_npoints = newrow\n",
    "    else :\n",
    "        data_npoints = np.vstack((data_npoints,newrow))  "
   ]
  },
  {
   "cell_type": "code",
   "execution_count": 5,
   "id": "d1f6122f",
   "metadata": {},
   "outputs": [
    {
     "name": "stdout",
     "output_type": "stream",
     "text": [
      "(416, 20)\n",
      "(421, 4)\n"
     ]
    }
   ],
   "source": [
    "print(data_npoints.shape)\n",
    "#print(data_npoints[0:4])\n",
    "#print(data_noT[:10])\n",
    "print(data_noT.shape)"
   ]
  },
  {
   "cell_type": "code",
   "execution_count": 6,
   "id": "158aece6",
   "metadata": {},
   "outputs": [],
   "source": [
    "# make targets\n",
    "targets = data_noT[npoints:,3]"
   ]
  },
  {
   "cell_type": "code",
   "execution_count": 7,
   "id": "6887a03b",
   "metadata": {},
   "outputs": [
    {
     "name": "stdout",
     "output_type": "stream",
     "text": [
      "[4037.5  4035.75 4041.   4038.25 4035.75]\n",
      "(416,)\n"
     ]
    }
   ],
   "source": [
    "print(targets[0:5])\n",
    "print(targets.shape)"
   ]
  },
  {
   "cell_type": "code",
   "execution_count": 8,
   "id": "c3e6b0ed",
   "metadata": {},
   "outputs": [
    {
     "name": "stdout",
     "output_type": "stream",
     "text": [
      "(416,)\n",
      "(416, 20)\n",
      "416\n"
     ]
    }
   ],
   "source": [
    "#print(targets.shape)\n",
    "#print(data_noT[-3])\n",
    "#print(targets[-1])\n",
    "#print(data_npoints[-25:-23])\n",
    "#print(targets[-26:-24])\n",
    "print(targets.shape)\n",
    "print(data_npoints.shape)\n",
    "print(len(data_npoints))"
   ]
  },
  {
   "cell_type": "markdown",
   "id": "fdcfcac1",
   "metadata": {},
   "source": [
    "## Clean up data - subtract opening value"
   ]
  },
  {
   "cell_type": "code",
   "execution_count": 17,
   "id": "b59f0291",
   "metadata": {},
   "outputs": [
    {
     "name": "stdout",
     "output_type": "stream",
     "text": [
      "(416,)\n",
      "(416, 1)\n"
     ]
    }
   ],
   "source": [
    "# opening values from each row in X\n",
    "openvals = data_npoints[:,0]\n",
    "#print(len(openvals))\n",
    "print(openvals.shape)\n",
    "# https://stackoverflow.com/questions/26333005/numpy-subtract-every-row-of-matrix-by-vector\n",
    "openvals = openvals[:, np.newaxis]\n",
    "print(openvals.shape)"
   ]
  },
  {
   "cell_type": "code",
   "execution_count": 18,
   "id": "92b20488",
   "metadata": {},
   "outputs": [],
   "source": [
    "data_subtracted = data_npoints - openvals\n",
    "pr"
   ]
  },
  {
   "cell_type": "code",
   "execution_count": null,
   "id": "29c3f93a",
   "metadata": {},
   "outputs": [],
   "source": []
  }
 ],
 "metadata": {
  "kernelspec": {
   "display_name": "Python 3",
   "language": "python",
   "name": "python3"
  },
  "language_info": {
   "codemirror_mode": {
    "name": "ipython",
    "version": 3
   },
   "file_extension": ".py",
   "mimetype": "text/x-python",
   "name": "python",
   "nbconvert_exporter": "python",
   "pygments_lexer": "ipython3",
   "version": "3.6.13"
  }
 },
 "nbformat": 4,
 "nbformat_minor": 5
}
