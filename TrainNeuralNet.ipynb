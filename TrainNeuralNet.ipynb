{
 "cells": [
  {
   "cell_type": "code",
   "execution_count": 1,
   "id": "f39dc3d2",
   "metadata": {},
   "outputs": [],
   "source": [
    "import numpy as np"
   ]
  },
  {
   "cell_type": "code",
   "execution_count": 2,
   "id": "623afa17",
   "metadata": {},
   "outputs": [],
   "source": [
    "dnames = [\n",
    "    \"data/data_TOHLC_TH_2022.08.26.txt\",\n",
    "    \"data/data_TOHLC_TH_2022.08.29.txt\",\n",
    "    \"data/data_TOHLC_TH_2022.08.30.txt\",\n",
    "    \"data/data_TOHLC_TH_2022.08.31.txt\",\n",
    "    \"data/data_TOHLC_TH_2022.09.07.txt\",\n",
    "    \"data/data_TOHLC_TH_2022.09.08.txt\",\n",
    "    \"data/data_TOHLC_TH_2022.09.09.txt\",\n",
    "    \"data/data_TOHLC_TH_2022.09.10.txt\",\n",
    "]\n",
    "\n",
    "def loaddata(dname,npoints,ydist):\n",
    "    \"\"\"\n",
    "    dname   = location of data file\n",
    "    npoints = nr. points used as a row to train on\n",
    "    ydist   = nr. timesteps away to set target\n",
    "    \"\"\"\n",
    "    \n",
    "    # load raw data\n",
    "    data_raw = np.genfromtxt(dname,delimiter=\",\")\n",
    "    # drop first column (date)\n",
    "    data_noT = data_raw[:,1:]\n",
    "    \n",
    "    # combine data to make input rows\n",
    "    data_npoints = np.array([])\n",
    "    for i in range(len(data_noT)-npoints):\n",
    "        newrow = data_noT[i]\n",
    "        for j in range(1,npoints):\n",
    "            k = i+j\n",
    "            newrow = np.concatenate([newrow,data_noT[k]])\n",
    "        if i==0:\n",
    "            data_npoints = newrow\n",
    "        else:\n",
    "            data_npoints = np.vstack((data_npoints,newrow))\n",
    "\n",
    "    # targets start at row ydist, take last element (close)\n",
    "    targets = data_npoints[ydist:,-1]\n",
    "    \n",
    "    # final ydist rows of data_npoints don't have targets\n",
    "    # -- delete them\n",
    "    data_ysize = data_npoints[:-ydist]\n",
    "    \n",
    "    # find opening values for each row in input\n",
    "    openvals = data_ysize[:,0]\n",
    "    # go from (XXX,) to (XXX,1) for broadcasting\n",
    "    openvals = openvals[:,np.newaxis] \n",
    "    targets  = targets[:,np.newaxis]\n",
    "    \n",
    "    # subtract opening value from row in input/targets\n",
    "    data_sub = data_ysize - openvals\n",
    "    target_sub = targets - openvals\n",
    "\n",
    "    return data_sub, target_sub, openvals    "
   ]
  },
  {
   "cell_type": "code",
   "execution_count": 3,
   "id": "b53612ed",
   "metadata": {},
   "outputs": [],
   "source": [
    "nb = 20  # number of bars to include in lookback\n",
    "yd = 3  # number of steps past input to set target\n",
    "#for dn in dnames:\n",
    "#    loaddata(dn, nb)\n",
    "#dn = \"data/data_TOHLC_TH_2022.08.29.txt\""
   ]
  },
  {
   "cell_type": "code",
   "execution_count": 4,
   "id": "9e19b418",
   "metadata": {},
   "outputs": [],
   "source": [
    "X_total = np.array([])\n",
    "y_total = np.array([])\n",
    "openvals_total = np.array([])\n",
    "i=0\n",
    "for dn in dnames:\n",
    "    X_tmp, y_tmp, openvals_tmp = loaddata(dn,nb,yd)\n",
    "    if i==0:\n",
    "        X_total = X_tmp\n",
    "        y_total = y_tmp\n",
    "        openvals_total = openvals_tmp\n",
    "    else:\n",
    "        X_total = np.vstack((X_total,X_tmp))\n",
    "        y_total = np.vstack((y_total,y_tmp))\n",
    "        openvals_total = np.vstack((openvals_total,openvals_tmp))\n",
    "        \n",
    "#X_total, y_total, openvals_total = loaddata(dn,nb,yd)"
   ]
  },
  {
   "cell_type": "code",
   "execution_count": 5,
   "id": "1b2def53",
   "metadata": {},
   "outputs": [
    {
     "name": "stdout",
     "output_type": "stream",
     "text": [
      "X: (1796, 80), y: (1796, 1), ov: (1796, 1)\n"
     ]
    }
   ],
   "source": [
    "print(\"X: {}, y: {}, ov: {}\".format(X_total.shape, y_total.shape, openvals_total.shape))"
   ]
  },
  {
   "cell_type": "code",
   "execution_count": 6,
   "id": "8c991818",
   "metadata": {},
   "outputs": [],
   "source": [
    "import tensorflow as tf\n",
    "from tensorflow.keras.models import Sequential\n",
    "from tensorflow.keras.layers import Dense\n",
    "from tensorflow.keras.activations import relu,linear\n",
    "from tensorflow.keras.losses import SparseCategoricalCrossentropy\n",
    "from tensorflow.keras.optimizers import Adam\n",
    "\n",
    "from sklearn.model_selection import train_test_split"
   ]
  },
  {
   "cell_type": "code",
   "execution_count": 7,
   "id": "87a9d080",
   "metadata": {},
   "outputs": [
    {
     "name": "stdout",
     "output_type": "stream",
     "text": [
      "X_train.shape (1257, 80) y_train.shape (1257, 1)\n",
      "X_test.shape (377, 80) y_test.shape (377, 1)\n",
      "X_cv.shape (162, 80) y_cv.shape (162, 1)\n"
     ]
    }
   ],
   "source": [
    "#split the data using sklearn routine \n",
    "X_train, X_, y_train, y_ = train_test_split(X_total,y_total,test_size=0.3, random_state=1)\n",
    "X_test, X_cv, y_test, y_cv = train_test_split(X_, y_, test_size=0.3, random_state=1)\n",
    "print(\"X_train.shape\", X_train.shape, \"y_train.shape\", y_train.shape)\n",
    "print(\"X_test.shape\", X_test.shape, \"y_test.shape\", y_test.shape)\n",
    "print(\"X_cv.shape\", X_cv.shape, \"y_cv.shape\", y_cv.shape)"
   ]
  },
  {
   "cell_type": "code",
   "execution_count": 8,
   "id": "f6e51e30",
   "metadata": {},
   "outputs": [
    {
     "name": "stdout",
     "output_type": "stream",
     "text": [
      "1257\n",
      "80\n"
     ]
    }
   ],
   "source": [
    "m,n = X_train.shape\n",
    "print(m)\n",
    "print(n)"
   ]
  },
  {
   "cell_type": "code",
   "execution_count": 9,
   "id": "cd0617ec",
   "metadata": {},
   "outputs": [],
   "source": [
    "model = Sequential(\n",
    "    [\n",
    "        tf.keras.Input(shape=(n,)),\n",
    "        Dense(units=16, activation='relu', name = 'layer1'),\n",
    "        Dense(units=12, activation='relu', name = 'layer2'),\n",
    "        Dense(units=10, activation='relu', name = 'layer3'),\n",
    "        Dense(units=1, activation='linear', name= 'out')\n",
    "    ]\n",
    ")"
   ]
  },
  {
   "cell_type": "code",
   "execution_count": 10,
   "id": "2b124ae6",
   "metadata": {},
   "outputs": [
    {
     "name": "stdout",
     "output_type": "stream",
     "text": [
      "Model: \"sequential\"\n",
      "_________________________________________________________________\n",
      "Layer (type)                 Output Shape              Param #   \n",
      "=================================================================\n",
      "layer1 (Dense)               (None, 16)                1296      \n",
      "_________________________________________________________________\n",
      "layer2 (Dense)               (None, 12)                204       \n",
      "_________________________________________________________________\n",
      "layer3 (Dense)               (None, 10)                130       \n",
      "_________________________________________________________________\n",
      "out (Dense)                  (None, 1)                 11        \n",
      "=================================================================\n",
      "Total params: 1,641\n",
      "Trainable params: 1,641\n",
      "Non-trainable params: 0\n",
      "_________________________________________________________________\n"
     ]
    }
   ],
   "source": [
    "model.summary()"
   ]
  },
  {
   "cell_type": "code",
   "execution_count": 11,
   "id": "0a935d8f",
   "metadata": {},
   "outputs": [
    {
     "name": "stdout",
     "output_type": "stream",
     "text": [
      "Train on 1257 samples\n",
      "Epoch 1/100\n",
      "1257/1257 [==============================] - 2s 1ms/sample - loss: 8.1597\n",
      "Epoch 2/100\n",
      "1257/1257 [==============================] - 0s 119us/sample - loss: 5.2837\n",
      "Epoch 3/100\n",
      "1257/1257 [==============================] - 0s 136us/sample - loss: 4.6741\n",
      "Epoch 4/100\n",
      "1257/1257 [==============================] - 0s 161us/sample - loss: 4.7134\n",
      "Epoch 5/100\n",
      "1257/1257 [==============================] - 0s 152us/sample - loss: 4.3420\n",
      "Epoch 6/100\n",
      "1257/1257 [==============================] - 0s 154us/sample - loss: 4.7019\n",
      "Epoch 7/100\n",
      "1257/1257 [==============================] - 0s 136us/sample - loss: 4.4869\n",
      "Epoch 8/100\n",
      "1257/1257 [==============================] - 0s 172us/sample - loss: 4.3458\n",
      "Epoch 9/100\n",
      "1257/1257 [==============================] - 0s 120us/sample - loss: 4.1046\n",
      "Epoch 10/100\n",
      "1257/1257 [==============================] - 0s 114us/sample - loss: 3.9797\n",
      "Epoch 11/100\n",
      "1257/1257 [==============================] - 0s 109us/sample - loss: 3.8968\n",
      "Epoch 12/100\n",
      "1257/1257 [==============================] - 0s 114us/sample - loss: 4.3455\n",
      "Epoch 13/100\n",
      "1257/1257 [==============================] - 0s 108us/sample - loss: 4.3399\n",
      "Epoch 14/100\n",
      "1257/1257 [==============================] - 0s 110us/sample - loss: 4.1355\n",
      "Epoch 15/100\n",
      "1257/1257 [==============================] - 0s 115us/sample - loss: 4.0223\n",
      "Epoch 16/100\n",
      "1257/1257 [==============================] - 0s 114us/sample - loss: 3.8514\n",
      "Epoch 17/100\n",
      "1257/1257 [==============================] - 0s 113us/sample - loss: 3.6440\n",
      "Epoch 18/100\n",
      "1257/1257 [==============================] - 0s 111us/sample - loss: 3.6993\n",
      "Epoch 19/100\n",
      "1257/1257 [==============================] - 0s 115us/sample - loss: 3.8243\n",
      "Epoch 20/100\n",
      "1257/1257 [==============================] - 0s 113us/sample - loss: 4.2744\n",
      "Epoch 21/100\n",
      "1257/1257 [==============================] - 0s 110us/sample - loss: 4.2021\n",
      "Epoch 22/100\n",
      "1257/1257 [==============================] - 0s 126us/sample - loss: 3.8146\n",
      "Epoch 23/100\n",
      "1257/1257 [==============================] - 0s 111us/sample - loss: 3.9978\n",
      "Epoch 24/100\n",
      "1257/1257 [==============================] - 0s 115us/sample - loss: 3.6695\n",
      "Epoch 25/100\n",
      "1257/1257 [==============================] - 0s 108us/sample - loss: 3.4206\n",
      "Epoch 26/100\n",
      "1257/1257 [==============================] - 0s 110us/sample - loss: 3.6020\n",
      "Epoch 27/100\n",
      "1257/1257 [==============================] - 0s 129us/sample - loss: 3.6514\n",
      "Epoch 28/100\n",
      "1257/1257 [==============================] - 0s 141us/sample - loss: 3.4740\n",
      "Epoch 29/100\n",
      "1257/1257 [==============================] - 0s 109us/sample - loss: 3.6238\n",
      "Epoch 30/100\n",
      "1257/1257 [==============================] - 0s 115us/sample - loss: 3.4961\n",
      "Epoch 31/100\n",
      "1257/1257 [==============================] - 0s 112us/sample - loss: 3.3551\n",
      "Epoch 32/100\n",
      "1257/1257 [==============================] - 0s 117us/sample - loss: 3.3138\n",
      "Epoch 33/100\n",
      "1257/1257 [==============================] - 0s 118us/sample - loss: 3.3532\n",
      "Epoch 34/100\n",
      "1257/1257 [==============================] - 0s 120us/sample - loss: 3.5467\n",
      "Epoch 35/100\n",
      "1257/1257 [==============================] - 0s 154us/sample - loss: 3.3673\n",
      "Epoch 36/100\n",
      "1257/1257 [==============================] - 0s 115us/sample - loss: 3.6387\n",
      "Epoch 37/100\n",
      "1257/1257 [==============================] - 0s 113us/sample - loss: 3.7750\n",
      "Epoch 38/100\n",
      "1257/1257 [==============================] - 0s 116us/sample - loss: 3.3279\n",
      "Epoch 39/100\n",
      "1257/1257 [==============================] - 0s 140us/sample - loss: 3.2791\n",
      "Epoch 40/100\n",
      "1257/1257 [==============================] - 0s 127us/sample - loss: 3.4417\n",
      "Epoch 41/100\n",
      "1257/1257 [==============================] - 0s 118us/sample - loss: 3.5497\n",
      "Epoch 42/100\n",
      "1257/1257 [==============================] - 0s 111us/sample - loss: 3.4834\n",
      "Epoch 43/100\n",
      "1257/1257 [==============================] - 0s 114us/sample - loss: 3.3302\n",
      "Epoch 44/100\n",
      "1257/1257 [==============================] - 0s 114us/sample - loss: 3.2761\n",
      "Epoch 45/100\n",
      "1257/1257 [==============================] - 0s 115us/sample - loss: 3.1482\n",
      "Epoch 46/100\n",
      "1257/1257 [==============================] - 0s 125us/sample - loss: 3.2021\n",
      "Epoch 47/100\n",
      "1257/1257 [==============================] - 0s 120us/sample - loss: 3.3459\n",
      "Epoch 48/100\n",
      "1257/1257 [==============================] - 0s 117us/sample - loss: 3.3527\n",
      "Epoch 49/100\n",
      "1257/1257 [==============================] - 0s 157us/sample - loss: 3.3357\n",
      "Epoch 50/100\n",
      "1257/1257 [==============================] - 0s 121us/sample - loss: 3.0925\n",
      "Epoch 51/100\n",
      "1257/1257 [==============================] - 0s 128us/sample - loss: 3.1755\n",
      "Epoch 52/100\n",
      "1257/1257 [==============================] - 0s 112us/sample - loss: 3.4904\n",
      "Epoch 53/100\n",
      "1257/1257 [==============================] - 0s 120us/sample - loss: 3.5113\n",
      "Epoch 54/100\n",
      "1257/1257 [==============================] - 0s 147us/sample - loss: 3.4363\n",
      "Epoch 55/100\n",
      "1257/1257 [==============================] - 0s 129us/sample - loss: 3.4737\n",
      "Epoch 56/100\n",
      "1257/1257 [==============================] - 0s 121us/sample - loss: 3.7800\n",
      "Epoch 57/100\n",
      "1257/1257 [==============================] - 0s 118us/sample - loss: 3.2705\n",
      "Epoch 58/100\n",
      "1257/1257 [==============================] - 0s 112us/sample - loss: 3.1749\n",
      "Epoch 59/100\n",
      "1257/1257 [==============================] - 0s 114us/sample - loss: 3.0135\n",
      "Epoch 60/100\n",
      "1257/1257 [==============================] - 0s 116us/sample - loss: 3.0150\n",
      "Epoch 61/100\n",
      "1257/1257 [==============================] - 0s 118us/sample - loss: 3.0111\n",
      "Epoch 62/100\n",
      "1257/1257 [==============================] - 0s 119us/sample - loss: 2.9331\n",
      "Epoch 63/100\n",
      "1257/1257 [==============================] - 0s 117us/sample - loss: 2.8265\n",
      "Epoch 64/100\n",
      "1257/1257 [==============================] - 0s 111us/sample - loss: 2.9049\n",
      "Epoch 65/100\n",
      "1257/1257 [==============================] - 0s 117us/sample - loss: 3.0491\n",
      "Epoch 66/100\n",
      "1257/1257 [==============================] - 0s 141us/sample - loss: 3.1034\n",
      "Epoch 67/100\n",
      "1257/1257 [==============================] - 0s 115us/sample - loss: 2.9679\n",
      "Epoch 68/100\n",
      "1257/1257 [==============================] - 0s 117us/sample - loss: 2.9046\n",
      "Epoch 69/100\n",
      "1257/1257 [==============================] - 0s 151us/sample - loss: 2.7803\n",
      "Epoch 70/100\n",
      "1257/1257 [==============================] - 0s 118us/sample - loss: 2.9013\n",
      "Epoch 71/100\n",
      "1257/1257 [==============================] - 0s 114us/sample - loss: 3.5065\n",
      "Epoch 72/100\n",
      "1257/1257 [==============================] - 0s 119us/sample - loss: 3.4309\n",
      "Epoch 73/100\n",
      "1257/1257 [==============================] - 0s 129us/sample - loss: 3.4017\n",
      "Epoch 74/100\n",
      "1257/1257 [==============================] - 0s 147us/sample - loss: 3.2953\n",
      "Epoch 75/100\n",
      "1257/1257 [==============================] - 0s 136us/sample - loss: 3.1129\n",
      "Epoch 76/100\n",
      "1257/1257 [==============================] - 0s 131us/sample - loss: 3.0448\n",
      "Epoch 77/100\n",
      "1257/1257 [==============================] - 0s 144us/sample - loss: 2.9835\n",
      "Epoch 78/100\n",
      "1257/1257 [==============================] - 0s 241us/sample - loss: 2.9511\n",
      "Epoch 79/100\n",
      "1257/1257 [==============================] - 0s 171us/sample - loss: 2.9833\n",
      "Epoch 80/100\n",
      "1257/1257 [==============================] - 0s 122us/sample - loss: 3.1372\n",
      "Epoch 81/100\n",
      "1257/1257 [==============================] - 0s 125us/sample - loss: 2.9419\n",
      "Epoch 82/100\n",
      "1257/1257 [==============================] - 0s 124us/sample - loss: 2.8328\n",
      "Epoch 83/100\n",
      "1257/1257 [==============================] - 0s 121us/sample - loss: 2.7213\n",
      "Epoch 84/100\n",
      "1257/1257 [==============================] - 0s 119us/sample - loss: 2.9575\n",
      "Epoch 85/100\n",
      "1257/1257 [==============================] - 0s 187us/sample - loss: 2.8850\n",
      "Epoch 86/100\n",
      "1257/1257 [==============================] - 0s 131us/sample - loss: 2.7871\n",
      "Epoch 87/100\n",
      "1257/1257 [==============================] - 0s 119us/sample - loss: 2.7548\n",
      "Epoch 88/100\n",
      "1257/1257 [==============================] - 0s 118us/sample - loss: 2.6429\n",
      "Epoch 89/100\n",
      "1257/1257 [==============================] - 0s 132us/sample - loss: 2.6672\n",
      "Epoch 90/100\n",
      "1257/1257 [==============================] - 0s 122us/sample - loss: 2.8681\n",
      "Epoch 91/100\n",
      "1257/1257 [==============================] - 0s 122us/sample - loss: 2.8549\n",
      "Epoch 92/100\n",
      "1257/1257 [==============================] - 0s 125us/sample - loss: 2.8522\n"
     ]
    },
    {
     "name": "stdout",
     "output_type": "stream",
     "text": [
      "Epoch 93/100\n",
      "1257/1257 [==============================] - 0s 115us/sample - loss: 2.8765\n",
      "Epoch 94/100\n",
      "1257/1257 [==============================] - 0s 121us/sample - loss: 2.7546\n",
      "Epoch 95/100\n",
      "1257/1257 [==============================] - 0s 118us/sample - loss: 2.8745\n",
      "Epoch 96/100\n",
      "1257/1257 [==============================] - 0s 132us/sample - loss: 2.6642\n",
      "Epoch 97/100\n",
      "1257/1257 [==============================] - 0s 140us/sample - loss: 2.6463\n",
      "Epoch 98/100\n",
      "1257/1257 [==============================] - 0s 115us/sample - loss: 2.5748\n",
      "Epoch 99/100\n",
      "1257/1257 [==============================] - 0s 114us/sample - loss: 2.5575\n",
      "Epoch 100/100\n",
      "1257/1257 [==============================] - 0s 119us/sample - loss: 2.7700\n"
     ]
    },
    {
     "data": {
      "text/plain": [
       "<tensorflow.python.keras.callbacks.History at 0x7f8ba2844240>"
      ]
     },
     "execution_count": 11,
     "metadata": {},
     "output_type": "execute_result"
    }
   ],
   "source": [
    "cost_fn = tf.keras.losses.MeanSquaredError()\n",
    "opt = tf.keras.optimizers.Adam(learning_rate=0.01)\n",
    "model.compile(optimizer=opt,\n",
    "              loss=cost_fn)\n",
    "\n",
    "model.fit(\n",
    "    X_train,y_train,            \n",
    "    epochs=100,\n",
    ")"
   ]
  },
  {
   "cell_type": "code",
   "execution_count": 12,
   "id": "90795939",
   "metadata": {},
   "outputs": [],
   "source": [
    "predictions = model.predict(X_test)"
   ]
  },
  {
   "cell_type": "code",
   "execution_count": 13,
   "id": "3e4ed994",
   "metadata": {},
   "outputs": [
    {
     "name": "stdout",
     "output_type": "stream",
     "text": [
      "Accuracy: 0.870026525198939\n"
     ]
    }
   ],
   "source": [
    "i=0\n",
    "ngood = 0\n",
    "for yval, pval in zip(y_test, predictions):\n",
    "    isgood = yval[0]*pval[0] > 0\n",
    "    i+=1\n",
    "    if isgood:\n",
    "        ngood += 1\n",
    "    #print(\"y: {: .2f}  p: {: .2f} samedir: {}\".format(yval[0],pval[0], isgood ))\n",
    "\n",
    "accuracy = ngood/i\n",
    "print(\"Accuracy: {}\".format(accuracy))"
   ]
  },
  {
   "cell_type": "code",
   "execution_count": null,
   "id": "df510da1",
   "metadata": {},
   "outputs": [],
   "source": []
  }
 ],
 "metadata": {
  "kernelspec": {
   "display_name": "Python 3",
   "language": "python",
   "name": "python3"
  },
  "language_info": {
   "codemirror_mode": {
    "name": "ipython",
    "version": 3
   },
   "file_extension": ".py",
   "mimetype": "text/x-python",
   "name": "python",
   "nbconvert_exporter": "python",
   "pygments_lexer": "ipython3",
   "version": "3.6.13"
  }
 },
 "nbformat": 4,
 "nbformat_minor": 5
}
